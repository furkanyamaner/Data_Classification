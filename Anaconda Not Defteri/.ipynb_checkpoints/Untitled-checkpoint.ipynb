{
 "cells": [
  {
   "cell_type": "code",
   "execution_count": 15,
   "id": "cdc0336d-8fb4-4546-b890-70a1e15055ad",
   "metadata": {},
   "outputs": [
    {
     "name": "stdout",
     "output_type": "stream",
     "text": [
      "Seçilen Özellikler: Index(['Longitude', 'Latitude'], dtype='object')\n",
      "Model Doğruluğu: 0.570281124497992\n",
      "              precision    recall  f1-score   support\n",
      "\n",
      "           0       0.49      0.46      0.48       195\n",
      "           1       0.64      0.70      0.67       376\n",
      "           2       0.47      0.42      0.44       176\n",
      "\n",
      "    accuracy                           0.57       747\n",
      "   macro avg       0.54      0.53      0.53       747\n",
      "weighted avg       0.56      0.57      0.57       747\n",
      "\n"
     ]
    },
    {
     "data": {
      "image/png": "[encoded data removed]",
      "text/plain": [
       "<Figure size 700x500 with 2 Axes>"
      ]
     },
     "metadata": {},
     "output_type": "display_data"
    }
   ],
   "source": [
    "import pandas as pd\n",
    "import numpy as np\n",
    "import matplotlib.pyplot as plt\n",
    "from matplotlib.colors import ListedColormap\n",
    "import seaborn as sns\n",
    "from sklearn.feature_selection import RFE\n",
    "from sklearn.feature_selection import chi2\n",
    "from sklearn.preprocessing import LabelEncoder\n",
    "from sklearn.preprocessing import StandardScaler\n",
    "from sklearn.model_selection import train_test_split\n",
    "from sklearn.tree import DecisionTreeClassifier\n",
    "from sklearn import metrics\n",
    "from sklearn.metrics import accuracy_score\n",
    "from sklearn.metrics import classification_report\n",
    "from sklearn.metrics import precision_recall_curve\n",
    "from sklearn.metrics import confusion_matrix\n",
    "from sklearn.metrics import f1_score\n",
    "pd.set_option('display.max_columns', None)\n",
    "pd.set_option(\"display.max_rows\", None)\n",
    "dFrame = pd.read_excel(\"Data_processed.xlsx\")\n",
    "\n",
    "\n",
    "nullValues = 0.000000\n",
    "def cleanData(dataFrame):\n",
    "    \n",
    "    for index in dataFrame.columns:\n",
    "        if nullValues in dataFrame[index].values:\n",
    "            dataFrame[index] = dataFrame[index].mean()\n",
    "\n",
    "\n",
    "        return dataFrame\n",
    "\n",
    "\n",
    "def changeToNumeric(dataFrame):\n",
    "    for col in dataFrame.columns:\n",
    "        if dataFrame[col].dtype not in ['float64', 'int64']:\n",
    "            dataFrame[col] = dataFrame[col].astype('category').cat.codes  # Kategorik verileri sayısallaştırma\n",
    "    return dataFrame\n",
    "\n",
    "\n",
    "def selectFeatures(dataFrame):\n",
    "    X = dataFrame.drop('GrainYield', axis=1)\n",
    "    y = dataFrame['GrainYield']\n",
    "    \n",
    "    X_train, X_test, y_train, y_test = train_test_split(X, y, test_size=0.2, random_state=42)\n",
    "    \n",
    "    model = DecisionTreeClassifier(random_state=42)\n",
    "    \n",
    "    selector = RFE(model, n_features_to_select=2)\n",
    "    selector = selector.fit(X_train, y_train)\n",
    "    \n",
    "    selected_features = X.columns[selector.support_]\n",
    "    print(\"Seçilen Özellikler:\", selected_features)\n",
    "    \n",
    "    X_train_selected = X_train[selected_features]\n",
    "    X_test_selected = X_test[selected_features]\n",
    "    \n",
    "    model.fit(X_train_selected, y_train)\n",
    "    \n",
    "    y_pred = model.predict(X_test_selected)\n",
    "    accuracy = accuracy_score(y_test, y_pred)\n",
    "    print(\"Model Doğruluğu:\", accuracy)\n",
    "    \n",
    "    print(classification_report(y_test, y_pred))\n",
    "    \n",
    "    \n",
    "    conf_matrix = confusion_matrix(y_test, y_pred)\n",
    "    plt.figure(figsize=(7, 5))\n",
    "    sns.heatmap(conf_matrix, annot=True, fmt='d', cmap=\"Blues\", xticklabels=np.unique(y), yticklabels=np.unique(y))\n",
    "    plt.title(\"Confusion Matrix\")\n",
    "    plt.xlabel(\"Predicted\")\n",
    "    plt.ylabel(\"Actual\")\n",
    "    plt.show()\n",
    "\n",
    " \n",
    "\n",
    "\n",
    "cleanedData = cleanData(dFrame)\n",
    "dFrame = changeToNumeric(cleanedData)\n",
    "selectFeatures(dFrame)"
   ]
  },
  {
   "cell_type": "code",
   "execution_count": null,
   "id": "b3f0a3ed-ae54-4056-aada-186c5d923459",
   "metadata": {},
   "outputs": [],
   "source": []
  }
 ],
 "metadata": {
  "kernelspec": {
   "display_name": "Python 3 (ipykernel)",
   "language": "python",
   "name": "python3"
  },
  "language_info": {
   "codemirror_mode": {
    "name": "ipython",
    "version": 3
   },
   "file_extension": ".py",
   "mimetype": "text/x-python",
   "name": "python",
   "nbconvert_exporter": "python",
   "pygments_lexer": "ipython3",
   "version": "3.12.4"
  }
 },
 "nbformat": 4,
 "nbformat_minor": 5
}
